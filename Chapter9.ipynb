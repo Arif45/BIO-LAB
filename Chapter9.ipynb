{
 "cells": [
  {
   "cell_type": "markdown",
   "metadata": {},
   "source": [
    "BA9A"
   ]
  },
  {
   "cell_type": "code",
   "execution_count": 2,
   "metadata": {},
   "outputs": [
    {
     "name": "stdout",
     "output_type": "stream",
     "text": [
      "0->1:A\n",
      "1->2:T\n",
      "2->3:A\n",
      "3->4:G\n",
      "4->5:A\n",
      "2->6:C\n",
      "0->7:G\n",
      "7->8:A\n",
      "8->9:T\n"
     ]
    }
   ],
   "source": [
    "patterns = ['ATAGA',\n",
    "'ATC',\n",
    "'GAT']\n",
    "\n",
    "trie = [[-1,'']]\n",
    "\n",
    "def search(x,val):\n",
    "    i = 0\n",
    "    while i < len(trie):\n",
    "        if trie[i][1] == val:\n",
    "            if trie[i][0] == x:\n",
    "                return i\n",
    "        \n",
    "        i+=1\n",
    "        \n",
    "    return -1\n",
    "    \n",
    "i = 0\n",
    "while i < len(patterns):\n",
    "    currentNode = 0\n",
    "    \n",
    "    j = 0\n",
    "    while j < len(patterns[i]):\n",
    "        tmp = search(currentNode,patterns[i][j])\n",
    "        \n",
    "        if tmp > -1:\n",
    "            currentNode = tmp\n",
    "        else:\n",
    "            trie.append([currentNode,patterns[i][j]])\n",
    "            currentNode = len(trie) - 1\n",
    "            \n",
    "            print (str(trie[currentNode][0]) + '->'+ str(currentNode) + ':'+patterns[i][j])\n",
    "            \n",
    "#         print(trie)\n",
    "        j+=1\n",
    "        \n",
    "    i+=1\n",
    "        "
   ]
  },
  {
   "cell_type": "markdown",
   "metadata": {},
   "source": [
    "BA9B"
   ]
  },
  {
   "cell_type": "code",
   "execution_count": 6,
   "metadata": {},
   "outputs": [
    {
     "name": "stdout",
     "output_type": "stream",
     "text": [
      "1 4 11 15 "
     ]
    }
   ],
   "source": [
    "text = 'AATCGGGTTCAATCGGGGT'\n",
    "patterns = ['ATCG','GGGT']\n",
    "\n",
    "trie = [[-1,'']]\n",
    "leaf = []\n",
    "\n",
    "def search(x,val):\n",
    "    i = 0\n",
    "    while i < len(trie):\n",
    "        if trie[i][1] == val:\n",
    "            if trie[i][0] == x:\n",
    "                return i\n",
    "        \n",
    "        i+=1\n",
    "        \n",
    "    return -1\n",
    "    \n",
    "i = 0\n",
    "while i < len(patterns):\n",
    "    currentNode = 0\n",
    "    \n",
    "    j = 0\n",
    "    while j < len(patterns[i]):\n",
    "        tmp = search(currentNode,patterns[i][j])\n",
    "        \n",
    "        if tmp > -1:\n",
    "            currentNode = tmp\n",
    "        else:\n",
    "            trie.append([currentNode,patterns[i][j]])\n",
    "            currentNode = len(trie) - 1\n",
    "            \n",
    "            #print (str(trie[currentNode][0]) + '->'+ str(currentNode) + ':'+patterns[i][j])\n",
    "            \n",
    "        #print(trie)\n",
    "        j+=1\n",
    "    \n",
    "    leaf.append(len(trie) - 1)\n",
    "    \n",
    "    i+=1\n",
    "    \n",
    "# print (leaf)\n",
    "# print (trie)\n",
    "i  = 0\n",
    "while i < len(text):\n",
    "    currentNode = 0\n",
    "    if search(currentNode,text[i]) > -1:\n",
    "        j = i\n",
    "        currentNode = search(currentNode,text[j])\n",
    "        while 1:\n",
    "            j+=1\n",
    "            if j >= len(text):\n",
    "                break\n",
    "            tmp = search(currentNode,text[j])\n",
    "            \n",
    "            if tmp > -1:\n",
    "                currentNode = tmp\n",
    "                if tmp in leaf:\n",
    "                    print(i,end = ' ')\n",
    "            else:\n",
    "                break\n",
    "    i+=1\n",
    "            \n",
    "\n",
    "    "
   ]
  },
  {
   "cell_type": "markdown",
   "metadata": {},
   "source": [
    "BA9I"
   ]
  },
  {
   "cell_type": "code",
   "execution_count": 12,
   "metadata": {},
   "outputs": [
    {
     "name": "stdout",
     "output_type": "stream",
     "text": [
      "['$GCGTGCCTGGTCA', 'A$GCGTGCCTGGTC', 'CA$GCGTGCCTGGT', 'CCTGGTCA$GCGTG', 'CGTGCCTGGTCA$G', 'CTGGTCA$GCGTGC', 'GCCTGGTCA$GCGT', 'GCGTGCCTGGTCA$', 'GGTCA$GCGTGCCT', 'GTCA$GCGTGCCTG', 'GTGCCTGGTCA$GC', 'TCA$GCGTGCCTGG', 'TGCCTGGTCA$GCG', 'TGGTCA$GCGTGCC']\n",
      "C\n",
      "ACTGGCT$TGCGGC\n"
     ]
    }
   ],
   "source": [
    "\n",
    "def circular_str(start, length, string):\n",
    "    if start >= len(string):\n",
    "        return\n",
    "\n",
    "    if start + length <= len(string):\n",
    "        return string[start: start + length]\n",
    "    else:\n",
    "        answer = string[start:]\n",
    "        answer += string[:(start + length) % (len(string))]\n",
    "        return answer\n",
    "\n",
    "def bwt(genome):\n",
    "    length = len(genome)\n",
    "    table = []\n",
    "    for i in range(length-1, -1, -1):\n",
    "        table.append(circular_str(i, length, genome))\n",
    "\n",
    "    \n",
    "    table.sort()\n",
    "    print(table)\n",
    "    print(table[1][-1])\n",
    "    return \"\".join(table[i][-1] for i in range(len(table)))\n",
    "\n",
    "data=\"GCGTGCCTGGTCA$\"\n",
    "print(bwt(data))"
   ]
  },
  {
   "cell_type": "markdown",
   "metadata": {},
   "source": [
    "BA9J"
   ]
  },
  {
   "cell_type": "code",
   "execution_count": 22,
   "metadata": {},
   "outputs": [
    {
     "name": "stdout",
     "output_type": "stream",
     "text": [
      "[('$', 1), ('A', 1), ('A', 2), ('A', 3), ('C', 1), ('C', 2), ('C', 3), ('G', 1), ('T', 1), ('T', 2), ('T', 3)]\n",
      "[('T', 1), ('T', 2), ('C', 1), ('C', 2), ('T', 3), ('A', 1), ('A', 2), ('C', 3), ('G', 1), ('$', 1), ('A', 3)]\n",
      "['$']\n",
      "1\n",
      "3\n",
      "2\n",
      "1\n",
      "3\n",
      "3\n",
      "2\n",
      "1\n",
      "2\n",
      "1\n",
      "TACATCACGT$\n"
     ]
    }
   ],
   "source": [
    "\n",
    "def decompression(bwt):\n",
    "    last = bwt\n",
    "    first = sorted(bwt)\n",
    "    length = len(bwt)\n",
    "    first_ind = []\n",
    "    last_ind = []\n",
    "    ind_1 = {}\n",
    "    ind_2 = {}\n",
    "    for i in range(length):\n",
    "        if first[i] in ind_1:\n",
    "            ind_1[first[i]] += 1\n",
    "        else:\n",
    "            ind_1[first[i]] = 1\n",
    "\n",
    "        first_ind.append((first[i], ind_1[first[i]]))\n",
    "        if last[i] in ind_2:\n",
    "            ind_2[last[i]] += 1\n",
    "        else:\n",
    "            ind_2[last[i]] = 1\n",
    "\n",
    "        last_ind.append((last[i],ind_2[last[i]]))\n",
    "\n",
    "    answer = [first[0]]\n",
    "    index = 0\n",
    "    print(first_ind)\n",
    "    print(last_ind)\n",
    "    print(answer)\n",
    "    for i in range(length-1):\n",
    "        answer.append(last[index])\n",
    "#         print(answer)\n",
    "#         print(answer[-1])\n",
    "        index = first_ind.index((answer[-1], last_ind[index][1]))\n",
    "        print(last_ind[index][1])\n",
    "\n",
    "    return \"\".join(answer[::-1])\n",
    "\n",
    "data=\"TTCCTAACG$A\"\n",
    "print (decompression(data))"
   ]
  },
  {
   "cell_type": "markdown",
   "metadata": {},
   "source": [
    "BA9M"
   ]
  },
  {
   "cell_type": "code",
   "execution_count": 8,
   "metadata": {},
   "outputs": [
    {
     "name": "stdout",
     "output_type": "stream",
     "text": [
      "1\n",
      "2\n",
      "1\n"
     ]
    }
   ],
   "source": [
    "def better_BWT_matching(last_col, pattern):\n",
    "    top = 0\n",
    "    bottom = len(last_col) - 1\n",
    "    first_col = ''.join(sorted(last_col))\n",
    "    while top <= bottom:\n",
    "        if pattern:\n",
    "            symbol = pattern[-1]\n",
    "            pattern = pattern[:-1]\n",
    "            if symbol in last_col[top:bottom+1]:\n",
    "                top = first_col.find(symbol) + last_col.count(symbol, 0, top)\n",
    "                bottom = first_col.find(symbol) + last_col.count(symbol, 0, bottom + 1) - 1\n",
    "            else:\n",
    "                return 0\n",
    "        else:\n",
    "            return bottom - top + 1\n",
    "\n",
    "\n",
    "last_col=\"GGCGCCGC$TAGTCACACACGCCGTA\"\n",
    "pattern=list()\n",
    "pattern.append(\"ACC\")\n",
    "pattern.append(\"CCG\")\n",
    "pattern.append(\"CAG\")\n",
    "for pattern in pattern:\n",
    "    print (better_BWT_matching(last_col, pattern))"
   ]
  },
  {
   "cell_type": "markdown",
   "metadata": {},
   "source": [
    "BA9N"
   ]
  },
  {
   "cell_type": "code",
   "execution_count": 14,
   "metadata": {},
   "outputs": [
    {
     "name": "stdout",
     "output_type": "stream",
     "text": [
      "1\n",
      "4\n",
      "11\n",
      "15\n"
     ]
    }
   ],
   "source": [
    "from collections import defaultdict\n",
    "def find_all_occur(text, patterns):\n",
    "    oc_pos = defaultdict(list)\n",
    "    pat_len = len(patterns[0])\n",
    "    text_len = len(text)\n",
    "    start = 0\n",
    "    while start + pat_len <= text_len:\n",
    "        oc_pos[text[start:start+pat_len]].append(start)\n",
    "        start += 1\n",
    "\n",
    "    positions = []\n",
    "    for pattern in patterns:\n",
    "        positions += oc_pos[pattern]\n",
    "\n",
    "    return sorted(positions)\n",
    "\n",
    "text=\"AATCGGGTTCAATCGGGGT\"\n",
    "patterns=list()\n",
    "patterns.append(\"ATCG\")\n",
    "patterns.append(\"GGGT\")\n",
    "posittions = find_all_occur(text, patterns)\n",
    "for pos in posittions:\n",
    "    print (pos)"
   ]
  }
 ],
 "metadata": {
  "kernelspec": {
   "display_name": "Python 3",
   "language": "python",
   "name": "python3"
  },
  "language_info": {
   "codemirror_mode": {
    "name": "ipython",
    "version": 3
   },
   "file_extension": ".py",
   "mimetype": "text/x-python",
   "name": "python",
   "nbconvert_exporter": "python",
   "pygments_lexer": "ipython3",
   "version": "3.6.4"
  }
 },
 "nbformat": 4,
 "nbformat_minor": 2
}
