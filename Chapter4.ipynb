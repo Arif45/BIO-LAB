{
 "cells": [
  {
   "cell_type": "markdown",
   "metadata": {},
   "source": [
    "BA4A"
   ]
  },
  {
   "cell_type": "code",
   "execution_count": 7,
   "metadata": {},
   "outputs": [
    {
     "name": "stdout",
     "output_type": "stream",
     "text": [
      "MAMAPRTEINSTRING\n"
     ]
    }
   ],
   "source": [
    "def search():\n",
    "    codons = dict()\n",
    "    # AXX\n",
    "    codons['AUG'] = 'M'\n",
    "    codons['AUA'] = 'I'\n",
    "    codons['AUC'] = 'I'\n",
    "    codons['AUU'] = 'I'\n",
    "    codons['AGG'] = 'R'\n",
    "    codons['AGA'] = 'R'\n",
    "    codons['AGC'] = 'S'\n",
    "    codons['AGU'] = 'S'\n",
    "    codons['ACG'] = 'T'\n",
    "    codons['ACA'] = 'T'\n",
    "    codons['ACC'] = 'T'\n",
    "    codons['ACU'] = 'T'\n",
    "    codons['AAG'] = 'K'\n",
    "    codons['AAA'] = 'K'\n",
    "    codons['AAC'] = 'N'\n",
    "    codons['AAU'] = 'N'\n",
    "    #CXX\n",
    "    codons['CAU'] = 'H'\n",
    "    codons['CAC'] = 'H'\n",
    "    codons['CAA'] = 'Q'\n",
    "    codons['CAG'] = 'Q'\n",
    "    codons['CCU'] = 'P'\n",
    "    codons['CCC'] = 'P'\n",
    "    codons['CCA'] = 'P'\n",
    "    codons['CCG'] = 'P'\n",
    "    codons['CGU'] = 'R'\n",
    "    codons['CGC'] = 'R'\n",
    "    codons['CGA'] = 'R'\n",
    "    codons['CGG'] = 'R'\n",
    "    codons['CUU'] = 'L'\n",
    "    codons['CUC'] = 'L'\n",
    "    codons['CUA'] = 'L'\n",
    "    codons['CUG'] = 'L'\n",
    "    #GXX\n",
    "    codons['GAU'] = 'D'\n",
    "    codons['GAC'] = 'D'\n",
    "    codons['GAA'] = 'E'\n",
    "    codons['GAG'] = 'E'\n",
    "    codons['GCU'] = 'A'\n",
    "    codons['GCC'] = 'A'\n",
    "    codons['GCA'] = 'A'\n",
    "    codons['GCG'] = 'A'\n",
    "    codons['GGU'] = 'G'\n",
    "    codons['GGC'] = 'G'\n",
    "    codons['GGA'] = 'G'\n",
    "    codons['GGG'] = 'G'\n",
    "    codons['GUU'] = 'V'\n",
    "    codons['GUC'] = 'V'\n",
    "    codons['GUA'] = 'V'\n",
    "    codons['GUG'] = 'V'\n",
    "    #UXX\n",
    "    codons['UAU'] = 'Y'\n",
    "    codons['UAC'] = 'Y'\n",
    "    codons['UAA'] = '*'\n",
    "    codons['UAG'] = '*'\n",
    "    codons['UCU'] = 'S'\n",
    "    codons['UCC'] = 'S'\n",
    "    codons['UCA'] = 'S'\n",
    "    codons['UCG'] = 'S'\n",
    "    codons['UGU'] = 'C'\n",
    "    codons['UGC'] = 'C'\n",
    "    codons['UGA'] = '*'\n",
    "    codons['UGG'] = 'W'\n",
    "    codons['UUU'] = 'F'\n",
    "    codons['UUC'] = 'F'\n",
    "    codons['UUA'] = 'L'\n",
    "    codons['UUG'] = 'L'\n",
    "\n",
    "    return codons\n",
    "\n",
    "def rna_to_peptide(rna):\n",
    "    peptide = ''\n",
    "    s = search()\n",
    "\n",
    "    for start in range(0, len(rna) - 2, 3):\n",
    "        if s[rna[start: start + 3]] == \"*\":\n",
    "            break\n",
    "\n",
    "        peptide += s[rna[start: start + 3]]\n",
    "\n",
    "    return peptide\n",
    "\n",
    "rna=\"AUGGCCAUGGCGCCCAGAACUGAGAUCAAUAGUACCCGUAUUAACGGGUGA\"\n",
    "print(rna_to_peptide(rna))"
   ]
  },
  {
   "cell_type": "markdown",
   "metadata": {},
   "source": [
    "BA4B"
   ]
  },
  {
   "cell_type": "code",
   "execution_count": 8,
   "metadata": {},
   "outputs": [
    {
     "name": "stdout",
     "output_type": "stream",
     "text": [
      "['ATGGCC', 'ATGGCC', 'GGCCAT']\n"
     ]
    }
   ],
   "source": [
    "\n",
    "def reverse_complement(dna):\n",
    "    lookup_dict = {\"A\":\"T\", \"C\":\"G\", \"G\":\"C\", \"T\":\"A\"}\n",
    "    reverse_compl = \"\"\n",
    "    length = len(dna)\n",
    "    for index in range(length):\n",
    "        reverse_compl += lookup_dict[dna[index]]\n",
    "\n",
    "    return reverse_compl[::-1]\n",
    "\n",
    "\n",
    "def rna_to_peptide(rna):\n",
    "    peptide = ''\n",
    "    s = search()\n",
    "\n",
    "    for start in range(0, len(rna) - 2, 3):\n",
    "        if s[rna[start: start + 3]] == \"*\":\n",
    "            break\n",
    "\n",
    "        peptide += s[rna[start: start + 3]]\n",
    "\n",
    "    return peptide\n",
    "\n",
    "\n",
    "def dna_to_rna(dna):\n",
    "    return dna.replace(\"T\", \"U\")\n",
    "\n",
    "\n",
    "def rna_to_dna(rna):\n",
    "    return rna.replace(\"U\", \"T\")\n",
    "\n",
    "\n",
    "def substrs_in_genome(dna, peptide):\n",
    "    substrs = []\n",
    "    rna = dna_to_rna(dna)\n",
    "    complement_rna = dna_to_rna(reverse_complement(dna))\n",
    "    sub_len = len(peptide)*3\n",
    "    start = 0\n",
    "    dna_len = len(dna)\n",
    "    while start + sub_len <= dna_len:\n",
    "        sub_one = rna[start: start + sub_len]\n",
    "        sub_two = complement_rna[start: start + sub_len]\n",
    "        if peptide == rna_to_peptide(sub_one):\n",
    "            substrs.append(rna_to_dna(sub_one))\n",
    "\n",
    "        if peptide == rna_to_peptide(sub_two):\n",
    "            substrs.append(reverse_complement(rna_to_dna(sub_two)))\n",
    "\n",
    "        start += 1\n",
    "    return substrs\n",
    "\n",
    "dna=\"ATGGCCATGGCCCCCAGAACTGAGATCAATAGTACCCGTATTAACGGGTGA\"\n",
    "peptide=\"MA\"\n",
    "print(substrs_in_genome(dna,peptide))"
   ]
  },
  {
   "cell_type": "markdown",
   "metadata": {},
   "source": [
    "BA4C"
   ]
  },
  {
   "cell_type": "code",
   "execution_count": 13,
   "metadata": {},
   "outputs": [
    {
     "name": "stdout",
     "output_type": "stream",
     "text": [
      "[0, 113, 114, 128, 129, 227, 242, 242, 257, 355, 356, 370, 371, 484]\n"
     ]
    }
   ],
   "source": [
    "def mass():\n",
    "    peptideMass = dict()\n",
    "    peptideMass[\"G\"] = 57\n",
    "    peptideMass[\"A\"] = 71\n",
    "    peptideMass[\"S\"] = 87\n",
    "    peptideMass[\"P\"] = 97\n",
    "    peptideMass[\"V\"] = 99\n",
    "    peptideMass[\"T\"] = 101\n",
    "    peptideMass[\"C\"] = 103\n",
    "    peptideMass[\"I\"] = 113\n",
    "    peptideMass[\"L\"] = 113\n",
    "    peptideMass[\"N\"] = 114\n",
    "    peptideMass[\"D\"] = 115\n",
    "    peptideMass[\"K\"] = 128\n",
    "    peptideMass[\"Q\"] = 128\n",
    "    peptideMass[\"E\"] = 129\n",
    "    peptideMass[\"M\"] = 131\n",
    "    peptideMass[\"H\"] = 137\n",
    "    peptideMass[\"F\"] = 147\n",
    "    peptideMass[\"R\"] = 156\n",
    "    peptideMass[\"Y\"] = 163\n",
    "    peptideMass[\"W\"] = 186\n",
    "\n",
    "    return peptideMass\n",
    "\n",
    "def circular_string(start, length, string):\n",
    "    if start >= len(string):\n",
    "        return\n",
    "\n",
    "    if start + length <= len(string):\n",
    "        return string[start: start + length]\n",
    "    else:\n",
    "        answer = string[start:]\n",
    "        answer += string[:(start + length) % (len(string))]\n",
    "        return answer\n",
    "\n",
    "\n",
    "def peptide_mass(peptide, masses):\n",
    "    mass = 0\n",
    "    for i in range(len(peptide)):\n",
    "        mass += masses[peptide[i]]\n",
    "\n",
    "    return mass\n",
    "\n",
    "\n",
    "def generate_spectrum(peptide):\n",
    "    masses = mass()\n",
    "    spectrum = [0]\n",
    "    chank_len = 1\n",
    "    peptide_len = len(peptide)\n",
    "    while chank_len < len(peptide):\n",
    "        start = 0\n",
    "        while start < peptide_len:\n",
    "            spectrum.append(peptide_mass(circular_string(start, chank_len, peptide), masses))\n",
    "            start += 1\n",
    "\n",
    "        chank_len += 1\n",
    "\n",
    "    spectrum.append(peptide_mass(peptide, masses))\n",
    "    return(sorted(spectrum))\n",
    "\n",
    "\n",
    "p=\"LEQN\"\n",
    "print(generate_spectrum(p))"
   ]
  },
  {
   "cell_type": "markdown",
   "metadata": {},
   "source": [
    "BA4D"
   ]
  },
  {
   "cell_type": "code",
   "execution_count": 19,
   "metadata": {},
   "outputs": [
    {
     "name": "stdout",
     "output_type": "stream",
     "text": [
      "14712706211\n"
     ]
    }
   ],
   "source": [
    "keys = [57, 71, 87, 97, 99, 101, 103, 113, 114, 115, 128, 129, 131, 137, 147, 156, 163, 186]\n",
    "def cal(m):\n",
    "    ways = [0]*(m + 1)\n",
    "#     print(ways)\n",
    "    index = m\n",
    "    ways[m] = 1\n",
    "#     print(ways)\n",
    "    \n",
    "    while index > 0:\n",
    "        for key in keys:\n",
    "            ways[index-key] += ways[index]\n",
    "#             print( ways[index-key])\n",
    "\n",
    "        index -= 1\n",
    "        while ways[index] == 0:\n",
    "            index -= 1\n",
    "\n",
    "    print(ways[0])\n",
    "\n",
    "m=1024\n",
    "cal(m)\n"
   ]
  },
  {
   "cell_type": "markdown",
   "metadata": {},
   "source": [
    "BA4F"
   ]
  },
  {
   "cell_type": "code",
   "execution_count": 29,
   "metadata": {},
   "outputs": [
    {
     "name": "stdout",
     "output_type": "stream",
     "text": [
      "11\n"
     ]
    }
   ],
   "source": [
    "def circular_string(start, length, string):\n",
    "    if start >= len(string):\n",
    "        return\n",
    "\n",
    "    if start + length <= len(string):\n",
    "        return string[start: start + length]\n",
    "    else:\n",
    "        answer = string[start:]\n",
    "        answer += string[:(start + length) % (len(string))]\n",
    "        return answer\n",
    "\n",
    "\n",
    "def peptide_mass(peptide, masses):\n",
    "    mass = 0\n",
    "    for i in range(len(peptide)):\n",
    "        mass += masses[peptide[i]]\n",
    "\n",
    "    return mass\n",
    "\n",
    "\n",
    "def generate_spectrum(peptide):\n",
    "    masses = mass()\n",
    "    spectrum = [0]\n",
    "    chank_len = 1\n",
    "    peptide_len = len(peptide)\n",
    "    while chank_len < len(peptide):\n",
    "        start = 0\n",
    "        while start < peptide_len:\n",
    "            spectrum.append(peptide_mass(circular_string(start, chank_len, peptide), masses))\n",
    "            start += 1\n",
    "\n",
    "        chank_len += 1\n",
    "\n",
    "    spectrum.append(peptide_mass(peptide, masses))\n",
    "    return sorted(spectrum)\n",
    "\n",
    "\n",
    "def score(theoret_spect, exper_spect):\n",
    "    score = 0\n",
    "    for item in theoret_spect:\n",
    "        if item in exper_spect:\n",
    "            score += 1\n",
    "            exper_spect.remove(item)\n",
    "\n",
    "    print (score)\n",
    "#     return score\n",
    "\n",
    "peptide=\"NQEL\"\n",
    "exp_spect={0,99, 113, 114, 128, 227, 257, 299, 355, 356, 370, 371, 484}\n",
    "theor_spect = generate_spectrum(peptide)\n",
    "score(theor_spect, exp_spect)"
   ]
  },
  {
   "cell_type": "markdown",
   "metadata": {},
   "source": [
    "BA4H"
   ]
  },
  {
   "cell_type": "code",
   "execution_count": 55,
   "metadata": {},
   "outputs": [
    {
     "name": "stdout",
     "output_type": "stream",
     "text": [
      "[(186, 2), (137, 2), (323, 1), (49, 1)]\n"
     ]
    }
   ],
   "source": [
    "import operator\n",
    "\n",
    "\n",
    "def convolution(spec):\n",
    "    c=dict()\n",
    "    for i in range(1, len(spec)):\n",
    "        for j in range(i):\n",
    "            if spec[i] == spec[j]:\n",
    "                continue\n",
    "\n",
    "            diff = abs(spec[i] - spec[j])\n",
    "            if diff in c:\n",
    "                c[diff] += 1\n",
    "            else:\n",
    "                c[diff] = 1\n",
    "\n",
    "    s = sorted(c.items(), key=operator.itemgetter(1))\n",
    "    return s[::-1]\n",
    "\n",
    "\n",
    "s=[0,137,186,323]\n",
    "print(convolution(s))\n"
   ]
  },
  {
   "cell_type": "markdown",
   "metadata": {},
   "source": [
    "BA4J"
   ]
  },
  {
   "cell_type": "code",
   "execution_count": 57,
   "metadata": {},
   "outputs": [
    {
     "name": "stdout",
     "output_type": "stream",
     "text": [
      "[0, 114, 128, 129, 113, 242, 257, 242, 371, 370, 484]\n"
     ]
    }
   ],
   "source": [
    "def get_peptide_mass(peptide, masses):\n",
    "    mass = 0\n",
    "    for i in range(len(peptide)):\n",
    "        mass += masses[peptide[i]]\n",
    "\n",
    "    return mass\n",
    "\n",
    "\n",
    "def gen_spectrum(peptide):\n",
    "    masses = mass()\n",
    "    spectrum = [0]\n",
    "    chank_len = 1\n",
    "    peptide_len = len(peptide)\n",
    "    while chank_len < len(peptide):\n",
    "        start = 0\n",
    "        while start + chank_len <= peptide_len:\n",
    "            spectrum.append(get_peptide_mass(peptide[start:start+chank_len], masses))\n",
    "            start += 1\n",
    "        chank_len += 1\n",
    "\n",
    "    spectrum.append(get_peptide_mass(peptide, masses))\n",
    "    print(spectrum)\n",
    "\n",
    "\n",
    "peptide=\"NQEL\"\n",
    "gen_spectrum(peptide)"
   ]
  },
  {
   "cell_type": "markdown",
   "metadata": {},
   "source": [
    "BA4K"
   ]
  },
  {
   "cell_type": "code",
   "execution_count": 58,
   "metadata": {},
   "outputs": [
    {
     "name": "stdout",
     "output_type": "stream",
     "text": [
      "8\n"
     ]
    }
   ],
   "source": [
    "\n",
    "def generate(peptide):\n",
    "    masses = mass()\n",
    "    spectrum = [0]\n",
    "    chank_len = 1\n",
    "    peptide_len = len(peptide)\n",
    "    while chank_len < len(peptide):\n",
    "        start = 0\n",
    "        while start < peptide_len:\n",
    "            spectrum.append(peptide_mass(peptide[start:start+chank_len], masses))\n",
    "            start += 1\n",
    "\n",
    "        chank_len += 1\n",
    "\n",
    "    spectrum.append(peptide_mass(peptide, masses))\n",
    "    return sorted(spectrum)\n",
    "\n",
    "peptide=\"NQEL\"\n",
    "exp_spect={0,99, 113, 114, 128, 227, 257, 299, 355, 356, 370, 371, 484}\n",
    "theor_spect = generate(peptide)\n",
    "score(theor_spect, exp_spect)"
   ]
  }
 ],
 "metadata": {
  "kernelspec": {
   "display_name": "Python 3",
   "language": "python",
   "name": "python3"
  },
  "language_info": {
   "codemirror_mode": {
    "name": "ipython",
    "version": 3
   },
   "file_extension": ".py",
   "mimetype": "text/x-python",
   "name": "python",
   "nbconvert_exporter": "python",
   "pygments_lexer": "ipython3",
   "version": "3.6.4"
  }
 },
 "nbformat": 4,
 "nbformat_minor": 2
}
