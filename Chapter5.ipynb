{
 "cells": [
  {
   "cell_type": "markdown",
   "metadata": {},
   "source": [
    "5A"
   ]
  },
  {
   "cell_type": "code",
   "execution_count": 1,
   "metadata": {},
   "outputs": [
    {
     "name": "stdout",
     "output_type": "stream",
     "text": [
      "2\n"
     ]
    }
   ],
   "source": [
    "import numpy as np\n",
    "\n",
    "\n",
    "def min_coins(amount, coins):\n",
    "    num = [0]*(amount+1)\n",
    "    num[0] = 0\n",
    "    for k in range(1, amount+1):\n",
    "        m = np.inf\n",
    "        for i in coins:\n",
    "            if k >= i:\n",
    "                m = min(m, num[k-i])\n",
    "\n",
    "        num[k] = m + 1\n",
    "\n",
    "    print (num[-1])\n",
    "#     return num_list[-1]\n",
    "\n",
    "\n",
    "n=40\n",
    "coins=[1,5,10,20,25,50]\n",
    "min_coins(n, coins)"
   ]
  },
  {
   "cell_type": "markdown",
   "metadata": {},
   "source": [
    "5B"
   ]
  },
  {
   "cell_type": "code",
   "execution_count": 7,
   "metadata": {},
   "outputs": [
    {
     "name": "stdout",
     "output_type": "stream",
     "text": [
      "34\n"
     ]
    },
    {
     "data": {
      "text/plain": [
       "34"
      ]
     },
     "execution_count": 7,
     "metadata": {},
     "output_type": "execute_result"
    }
   ],
   "source": [
    "def longest_manh_path(n, m, down, right):\n",
    "    score = [[0]*(m+1) for _ in range(n+1)]\n",
    "    for i in range(1, n+1):\n",
    "        score[i][0] = score[i - 1][0] + down[i - 1][0]\n",
    "\n",
    "    for j in range(1, m+1):\n",
    "        score[0][j] = score[0][j - 1] + right[0][j - 1]\n",
    "\n",
    "    for i in range(1, n+1):\n",
    "        for j in range(1, m+1):\n",
    "            score[i][j] = max(score[i - 1][j] + down[i - 1][j], score[i][j - 1] + right[i][j - 1])\n",
    "\n",
    "    print (score[n][m])\n",
    "    return score[n][m]\n",
    "\n",
    "n=4\n",
    "m=4\n",
    "a = [[1, 0, 2, 4, 3], [4,6, 5, 2, 1],[4, 4, 5, 2, 1],[5, 6, 8, 5, 3]]\n",
    "b=[[3, 2, 4, 0], [3, 2, 4, 2],[0, 7, 3, 3],[3, 3, 0, 2],[1, 3, 2, 2]]\n",
    "\n",
    "longest_manh_path(n, m, a,b)"
   ]
  }
 ],
 "metadata": {
  "kernelspec": {
   "display_name": "Python 3",
   "language": "python",
   "name": "python3"
  },
  "language_info": {
   "codemirror_mode": {
    "name": "ipython",
    "version": 3
   },
   "file_extension": ".py",
   "mimetype": "text/x-python",
   "name": "python",
   "nbconvert_exporter": "python",
   "pygments_lexer": "ipython3",
   "version": "3.6.4"
  }
 },
 "nbformat": 4,
 "nbformat_minor": 2
}
