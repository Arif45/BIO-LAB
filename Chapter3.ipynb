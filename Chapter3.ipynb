{
 "cells": [
  {
   "cell_type": "markdown",
   "metadata": {},
   "source": [
    "BA3A"
   ]
  },
  {
   "cell_type": "code",
   "execution_count": 6,
   "metadata": {},
   "outputs": [
    {
     "name": "stdout",
     "output_type": "stream",
     "text": [
      "AATCC\n",
      "ATCCA\n",
      "CAATC\n",
      "CCAAC\n",
      "TCCAA\n"
     ]
    }
   ],
   "source": [
    "\n",
    "def gen_kmer(k, string):\n",
    "    start = 0\n",
    "    l = len(string)\n",
    "    str = []\n",
    "    while start + k <= l:\n",
    "        sub = string[start:start+k]\n",
    "        str.append(sub)\n",
    "        start += 1\n",
    "\n",
    "    str.sort()\n",
    "    l2 = len(str)\n",
    "    for i in range(l2):\n",
    "        print (str[i])\n",
    "\n",
    "k=5\n",
    "text=\"CAATCCAAC\"\n",
    "gen_kmer(k, text)"
   ]
  },
  {
   "cell_type": "markdown",
   "metadata": {},
   "source": [
    "BA3B"
   ]
  },
  {
   "cell_type": "code",
   "execution_count": 13,
   "metadata": {},
   "outputs": [
    {
     "name": "stdout",
     "output_type": "stream",
     "text": [
      "ACCGAAGCT\n"
     ]
    }
   ],
   "source": [
    "def reconstruct(kmers):\n",
    "    answer = kmers[0]\n",
    "#     print(answer)\n",
    "    k = len(answer)\n",
    "    for i in range(1, len(kmers)):\n",
    "        answer += kmers[i][k - 1]\n",
    "#         print(answer)\n",
    "\n",
    "    print(answer)\n",
    "\n",
    "string=[]\n",
    "string.append(\"ACCGA\")\n",
    "string.append(\"CCGAA\")\n",
    "string.append(\"CGAAG\")\n",
    "string.append(\"GAAGC\")\n",
    "string.append(\"AAGCT\")\n",
    "\n",
    "\n",
    "reconstruct(string)"
   ]
  },
  {
   "cell_type": "markdown",
   "metadata": {},
   "source": [
    "3ABC"
   ]
  },
  {
   "cell_type": "code",
   "execution_count": 31,
   "metadata": {},
   "outputs": [
    {
     "name": "stdout",
     "output_type": "stream",
     "text": [
      "AGGCA -> GGCAT\n",
      "\n",
      "CATGC -> ATGCG\n",
      "\n",
      "GCATG -> CATGC\n",
      "\n",
      "GGCAT -> GCATG\n",
      "\n"
     ]
    }
   ],
   "source": [
    "import collections\n",
    "def prefix(string):\n",
    "    return string[:len(string)-1]\n",
    "\n",
    "\n",
    "def suffix(string):\n",
    "    return string[1:]\n",
    "\n",
    "\n",
    "def overlap(patterns):\n",
    "    l1 = len(patterns)\n",
    "    pairs = {}\n",
    "    for i in range(l1):\n",
    "        for j in range(l1):\n",
    "            if (i != j) and (suffix(patterns[i]) == prefix(patterns[j])):\n",
    "                pairs[patterns[i]] = patterns[j]\n",
    "\n",
    "    ans = collections.OrderedDict(sorted(pairs.items()))\n",
    "#     print(ans)\n",
    "    for key in ans.keys():\n",
    "            print(str(key) + \" -> \" + str(ans[key]) + \"\\n\")\n",
    "\n",
    "string=[]\n",
    "string.append(\"ATGCG\")\n",
    "string.append(\"GCATG\")\n",
    "string.append(\"CATGC\")\n",
    "string.append(\"AGGCA\")\n",
    "string.append(\"GGCAT\")\n",
    "overlap(string)"
   ]
  },
  {
   "cell_type": "markdown",
   "metadata": {},
   "source": [
    "BA3D"
   ]
  },
  {
   "cell_type": "code",
   "execution_count": 44,
   "metadata": {},
   "outputs": [
    {
     "name": "stdout",
     "output_type": "stream",
     "text": [
      "AAG -> AGA\n",
      "\n",
      "AGA -> GAT\n",
      "\n",
      "ATT -> TTC\n",
      "\n",
      "CTA -> TAC\n",
      "\n",
      "CTC -> TCT\n",
      "\n",
      "GAT -> ATT\n",
      "\n",
      "TCT -> CTCCTA\n",
      "\n",
      "TTC -> TCT\n",
      "\n"
     ]
    }
   ],
   "source": [
    "def de_bruijn(k, string):\n",
    "    start = 0\n",
    "    answer = {}\n",
    "    while start + k <= len(string):\n",
    "        window = string[start:start+k]\n",
    "        pre = prefix(window)\n",
    "        suf = suffix(window)\n",
    "        if pre not in answer:\n",
    "            answer[pre] = (suf)\n",
    "        else:\n",
    "            answer[pre] += (suf)\n",
    "        start += 1\n",
    "\n",
    "    ans = collections.OrderedDict(sorted(answer.items()))\n",
    "#     print(ans)\n",
    "    for key in ans.keys():\n",
    "            print(str(key) + \" -> \" + str(ans[key]) + \"\\n\")\n",
    "\n",
    "k=4\n",
    "string=\"AAGATTCTCTAC\"\n",
    "de_bruijn(k,string)"
   ]
  }
 ],
 "metadata": {
  "kernelspec": {
   "display_name": "Python 3",
   "language": "python",
   "name": "python3"
  },
  "language_info": {
   "codemirror_mode": {
    "name": "ipython",
    "version": 3
   },
   "file_extension": ".py",
   "mimetype": "text/x-python",
   "name": "python",
   "nbconvert_exporter": "python",
   "pygments_lexer": "ipython3",
   "version": "3.6.4"
  }
 },
 "nbformat": 4,
 "nbformat_minor": 2
}
