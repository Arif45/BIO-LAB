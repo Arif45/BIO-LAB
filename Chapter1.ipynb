{
 "cells": [
  {
   "cell_type": "markdown",
   "metadata": {},
   "source": [
    "BA1A"
   ]
  },
  {
   "cell_type": "code",
   "execution_count": 22,
   "metadata": {},
   "outputs": [
    {
     "name": "stdout",
     "output_type": "stream",
     "text": [
      "GCGGCG\n",
      "GCG\n",
      "1\n",
      "4\n",
      "2\n"
     ]
    }
   ],
   "source": [
    "\n",
    "def pattern_count(string, pattern):\n",
    "    number = start = 0\n",
    "    while True:\n",
    "        start = string.find(pattern, start) + 1\n",
    "        if start > 0:\n",
    "            print(start)\n",
    "            number += 1\n",
    "        else:\n",
    "            return number\n",
    "\n",
    "string=input()\n",
    "pattern=input()\n",
    "print(pattern_count(string,pattern))\n",
    "\n"
   ]
  },
  {
   "cell_type": "markdown",
   "metadata": {},
   "source": [
    "BA1B"
   ]
  },
  {
   "cell_type": "code",
   "execution_count": 16,
   "metadata": {},
   "outputs": [
    {
     "name": "stdout",
     "output_type": "stream",
     "text": [
      "ACGTTGCATGTCGCATGATGCATGAGAGCT\n",
      "4\n",
      "GCAT CATG\n"
     ]
    }
   ],
   "source": [
    "frequent={}\n",
    "def most_frequesnt_kmer(string, k):\n",
    "    l=len(string)\n",
    "    start=0\n",
    "    pattern=list()\n",
    "    while(start+k<=l):\n",
    "        pattern=string[start:start+k]\n",
    "        start+=1\n",
    "        if pattern in frequent.keys():\n",
    "            frequent[pattern]+=1\n",
    "        else:\n",
    "            frequent[pattern]=1\n",
    "#         pattern.append(sub)\n",
    "#     return pattern\n",
    "\n",
    "string=input()\n",
    "k=int(input())\n",
    "most_frequesnt_kmer(string,k)\n",
    "\n",
    "sub=\"\"\n",
    "max=0\n",
    "for p,v in frequent.items():\n",
    "    if(v>max):\n",
    "        sub=p\n",
    "        max=v\n",
    "    else:\n",
    "        if(v==max):\n",
    "            sub+=\" \"+ p\n",
    "        \n",
    "\n",
    "print(sub)\n",
    "     \n"
   ]
  },
  {
   "cell_type": "markdown",
   "metadata": {},
   "source": [
    "BA1C"
   ]
  },
  {
   "cell_type": "code",
   "execution_count": 21,
   "metadata": {},
   "outputs": [
    {
     "name": "stdout",
     "output_type": "stream",
     "text": [
      "AAAACCCGGT\n",
      "ACCGGGTTTT\n"
     ]
    }
   ],
   "source": [
    "def reverse_com(string):\n",
    "    rev=[]\n",
    "    l=len(string)\n",
    "    for x in range(0,l):\n",
    "        if string[x]==\"A\":\n",
    "            rev.append(\"T\")\n",
    "        elif string[x]==\"T\":\n",
    "            rev.append(\"A\")\n",
    "        elif string[x]==\"C\":\n",
    "            rev.append(\"G\")\n",
    "        elif string[x]==\"G\":\n",
    "            rev.append(\"C\")\n",
    "            \n",
    "    return \"\".join(rev[::-1])\n",
    "\n",
    "\n",
    "string=input()\n",
    "print(reverse_com(string))\n",
    "            "
   ]
  },
  {
   "cell_type": "markdown",
   "metadata": {},
   "source": [
    "BA1D"
   ]
  },
  {
   "cell_type": "code",
   "execution_count": 7,
   "metadata": {},
   "outputs": [
    {
     "name": "stdout",
     "output_type": "stream",
     "text": [
      "ATAT\n",
      "GATATATGCATATACTT\n",
      "[1, 3, 9]\n"
     ]
    }
   ],
   "source": [
    "def pattern_count(pattern, string):\n",
    "    p=[]\n",
    "    start = 0\n",
    "    while True:\n",
    "        start = string.find(pattern, start) + 1\n",
    "        if start > 0:\n",
    "            p.append(start-1)\n",
    "#             print(start-1)\n",
    "#             number += 1\n",
    "        else:\n",
    "            return p\n",
    "        \n",
    "pattern=input()\n",
    "string=input()\n",
    "\n",
    "print(pattern_count(pattern,string))"
   ]
  },
  {
   "cell_type": "markdown",
   "metadata": {},
   "source": [
    "BA1E"
   ]
  },
  {
   "cell_type": "code",
   "execution_count": 6,
   "metadata": {},
   "outputs": [
    {
     "name": "stdout",
     "output_type": "stream",
     "text": [
      "CGGACTCGACAGATGTGAAGAAATGTGAAGACTGAGTGAAGAGAAGAGGAAACACGACACGACATTGCGACATAATGTACGAATGTAATGTGCCTATGGC\n",
      "5\n",
      "75\n",
      "4\n",
      "AATGT\n",
      "GAAGA\n",
      "CGACA\n"
     ]
    }
   ],
   "source": [
    "def get_clumps(k, L, t, data):\n",
    "    start = 0\n",
    "    answer = set()\n",
    "    l = len(data)\n",
    "    while start + L <= l:\n",
    "        substr = {}\n",
    "        window = data[start:start + L]\n",
    "        start1 = 0\n",
    "        w_l = len(window)\n",
    "        while start1 + k <= w_l:\n",
    "            sub = window[start1:start1 + k]\n",
    "            if sub not in substr:\n",
    "                substr[sub] = 1\n",
    "            else:\n",
    "                substr[sub] += 1\n",
    "            start1 += 1\n",
    "        start += 1\n",
    "        answer_list = [key for key in substr.keys() if substr[key] >= t]\n",
    "        for item in answer_list:\n",
    "            answer.add(item)\n",
    "    for item in answer:\n",
    "        print (item)\n",
    "\n",
    "string=input()\n",
    "k=int(input())\n",
    "L=int(input())\n",
    "t=int(input())\n",
    "get_clumps(k, L, t, string)"
   ]
  },
  {
   "cell_type": "markdown",
   "metadata": {},
   "source": [
    "BA1F"
   ]
  },
  {
   "cell_type": "code",
   "execution_count": 7,
   "metadata": {},
   "outputs": [
    {
     "name": "stdout",
     "output_type": "stream",
     "text": [
      "CCTATCGGTGGATTAGCATGTCCCTGTACGTTTCGCCGCGAACTAGTTCACACGGCTTGATGGCAAATGGTTTTTCCGGCGACCGTAATCGTCCACCGAG\n",
      "53\n",
      "97\n"
     ]
    }
   ],
   "source": [
    "def skew(dna):\n",
    "    l=len(dna)\n",
    "    c=0\n",
    "    s=[]\n",
    "    for x in range(0,l):\n",
    "        if(dna[x]==\"G\"):\n",
    "            c+=1\n",
    "        elif(dna[x]==\"C\"):\n",
    "            c-=1\n",
    "        s.append(c)\n",
    "    l1=len(s)\n",
    "    m=min(s)\n",
    "    for i in range(0,l1):\n",
    "        if(s[i]==m):\n",
    "            print(i+1)\n",
    "        \n",
    "dna=input()\n",
    "skew(dna)"
   ]
  },
  {
   "cell_type": "markdown",
   "metadata": {},
   "source": [
    "BA1G"
   ]
  },
  {
   "cell_type": "code",
   "execution_count": 9,
   "metadata": {},
   "outputs": [
    {
     "name": "stdout",
     "output_type": "stream",
     "text": [
      "GGGCCGTTGGT\n",
      "GGACCGTTGAC\n",
      "3\n"
     ]
    }
   ],
   "source": [
    "def hamming(dna1,dna2):\n",
    "    l=len(dna1)\n",
    "    c=0\n",
    "    for x in range(0,l):\n",
    "        if(dna1[x]!=dna2[x]):\n",
    "            c+=1\n",
    "    print(c)\n",
    "\n",
    "dna1=input()\n",
    "dna2=input()\n",
    "hamming(dna1,dna2)\n"
   ]
  },
  {
   "cell_type": "markdown",
   "metadata": {},
   "source": [
    "BA1H"
   ]
  },
  {
   "cell_type": "code",
   "execution_count": 12,
   "metadata": {},
   "outputs": [
    {
     "name": "stdout",
     "output_type": "stream",
     "text": [
      "ATTCTGGA\n",
      "CGCCCGAATCCAGAACGCATTCCCATATTTCGGGACCACTGGCCTCCACGGTACGGACGTCAATCAAATGCCTAGCGGCTTGTGGTTTCTCCTACGCTCC\n",
      "3\n",
      "6  \n",
      "7  \n",
      "26  \n",
      "27  \n",
      "78  \n"
     ]
    }
   ],
   "source": [
    "\n",
    "def approximate(pattern,string,d):\n",
    "    p_l=len(pattern)\n",
    "    l=len(string)\n",
    "    start=0\n",
    "    while(start+p_l<=l):\n",
    "        pa=string[start:start+p_l]\n",
    "        pa_l=len(pa)\n",
    "        c=0\n",
    "        for i in range(0,pa_l):\n",
    "            if(pa[i]!=pattern[i]):\n",
    "                c+=1\n",
    "        if(c<=d):\n",
    "            print(start,\" \")\n",
    "        start+=1\n",
    "    \n",
    "    \n",
    "    \n",
    "pattern=input()\n",
    "string=input()\n",
    "d=int(input())\n",
    "approximate(pattern,string,d)\n",
    "\n"
   ]
  },
  {
   "cell_type": "markdown",
   "metadata": {},
   "source": [
    "BA1I"
   ]
  },
  {
   "cell_type": "code",
   "execution_count": 1,
   "metadata": {},
   "outputs": [
    {
     "name": "stdout",
     "output_type": "stream",
     "text": [
      "ACGTTGCATGTCGCATGATGCATGAGAGCT\n",
      "4\n",
      "1\n",
      "['ATGC', 'ATGT', 'GATG']\n"
     ]
    }
   ],
   "source": [
    "import itertools\n",
    "\n",
    "def hamming_dis(dna1,dna2):\n",
    "    l=len(dna1)\n",
    "    c=0\n",
    "    for x in range(0,l):\n",
    "        if(dna1[x]!=dna2[x]):\n",
    "            c+=1\n",
    "    return c        \n",
    "     \n",
    "    \n",
    "def get_all_kmers(k):\n",
    "    pattern = map(''.join, itertools.product('ACTG', repeat=k))\n",
    "    p = dict()\n",
    "    for i in pattern:\n",
    "         p[i] = 0\n",
    "        \n",
    "    return p\n",
    "        \n",
    "    \n",
    "     \n",
    "       \n",
    "    \n",
    "def most_frequent(string ,k,d):\n",
    "    patterns=get_all_kmers(k)\n",
    "    start=0\n",
    "    l=len(string)\n",
    "    while(start+k<=l):\n",
    "        st=string[start:start+k]\n",
    "        for j in patterns.keys():\n",
    "            if(hamming_dis(j,st)<=d):\n",
    "                patterns[j]+=1\n",
    "        start+=1\n",
    "    values=patterns.values()\n",
    "    ma=max(values)\n",
    "    ans=[]\n",
    "    for x in patterns.keys():\n",
    "        if(patterns[x]==ma):\n",
    "            ans.append(x)\n",
    "            \n",
    "        \n",
    "    print(ans)  \n",
    "    \n",
    "string=input()\n",
    "k=int(input())\n",
    "d=int(input())\n",
    "most_frequent(string,k,d)"
   ]
  },
  {
   "cell_type": "markdown",
   "metadata": {},
   "source": [
    "BA1J"
   ]
  },
  {
   "cell_type": "code",
   "execution_count": 25,
   "metadata": {},
   "outputs": [
    {
     "name": "stdout",
     "output_type": "stream",
     "text": [
      "ACGTTGCATGTCGCATGATGCATGAGAGCT\n",
      "4\n",
      "1\n",
      "['ACAT', 'ATGT']\n"
     ]
    }
   ],
   "source": [
    "import itertools\n",
    "def reverse_c(string):\n",
    "    rev=[]\n",
    "    l=len(string)\n",
    "    for x in range(0,l):\n",
    "        if string[x]==\"A\":\n",
    "            rev.append(\"T\")\n",
    "        elif string[x]==\"T\":\n",
    "            rev.append(\"A\")\n",
    "        elif string[x]==\"C\":\n",
    "            rev.append(\"G\")\n",
    "        elif string[x]==\"G\":\n",
    "            rev.append(\"C\")\n",
    "            \n",
    "    return \"\".join(rev[::-1])\n",
    "\n",
    "def hamming_dis(dna1,dna2):\n",
    "    l=len(dna1)\n",
    "    c=0\n",
    "    for x in range(0,l):\n",
    "        if(dna1[x]!=dna2[x]):\n",
    "            c+=1\n",
    "    return c        \n",
    "     \n",
    "    \n",
    "def get_all_kmers(k):\n",
    "    pattern = map(''.join, itertools.product('ACTG', repeat=k))\n",
    "    p = dict()\n",
    "    for i in pattern:\n",
    "         p[i] = 0\n",
    "        \n",
    "    return p\n",
    "        \n",
    "    \n",
    "     \n",
    "       \n",
    "    \n",
    "def most_frequent(string ,k,d):\n",
    "    patterns=get_all_kmers(k)\n",
    "    start=0\n",
    "    l=len(string)\n",
    "    while(start+k<=l):\n",
    "        st=string[start:start+k]\n",
    "        for j in patterns.keys():\n",
    "            if(hamming_dis(j,st)<=d):\n",
    "                patterns[j]+=1\n",
    "            if(hamming_dis( reverse_c(j),st)<=d):\n",
    "                patterns[j]+=1\n",
    "        start+=1\n",
    "    values=patterns.values()\n",
    "    ma=max(values)\n",
    "    ans=[]\n",
    "    for x in patterns.keys():\n",
    "        if(patterns[x]==ma):\n",
    "            ans.append(x)\n",
    "            \n",
    "        \n",
    "    print(ans)  \n",
    "    \n",
    "string=input()\n",
    "k=int(input())\n",
    "d=int(input())\n",
    "most_frequent(string,k,d)"
   ]
  },
  {
   "cell_type": "markdown",
   "metadata": {},
   "source": [
    "BA1K"
   ]
  },
  {
   "cell_type": "code",
   "execution_count": 34,
   "metadata": {},
   "outputs": [
    {
     "name": "stdout",
     "output_type": "stream",
     "text": [
      "ACGCGGCTCTGAAA\n",
      "2\n",
      "[2, 1, 0, 0, 0, 0, 2, 2, 0, 1, 0, 1, 1, 2, 0, 1]\n"
     ]
    }
   ],
   "source": [
    "import itertools  \n",
    "\n",
    "def pattern_c(pattern,string):\n",
    "    number = start = 0\n",
    "    while True:\n",
    "        start = string.find(pattern, start) + 1\n",
    "        if start > 0:\n",
    "#             print(start)\n",
    "            number += 1\n",
    "        else:\n",
    "            return number\n",
    "\n",
    "\n",
    "def get_all_kmers(k):\n",
    "    pattern = map(''.join, itertools.product('ACTG', repeat=k))\n",
    "    p = dict()\n",
    "    for i in pattern:\n",
    "         p[i] = 0\n",
    "        \n",
    "    return p       \n",
    "\n",
    "def frequent_array(string ,k):\n",
    "    patterns=get_all_kmers(k)\n",
    "    start=0\n",
    "    l=len(patterns)\n",
    "    \n",
    "    result=[]\n",
    "    for j in patterns.keys():\n",
    "        result.append(pattern_c(j,string))\n",
    "        \n",
    "\n",
    "    return result       \n",
    "\n",
    "    \n",
    "    \n",
    "string=input()\n",
    "k=int(input())\n",
    "print(frequent_array(string,k))"
   ]
  },
  {
   "cell_type": "markdown",
   "metadata": {},
   "source": [
    "BA1L"
   ]
  },
  {
   "cell_type": "code",
   "execution_count": 10,
   "metadata": {},
   "outputs": [
    {
     "name": "stdout",
     "output_type": "stream",
     "text": [
      "11\n"
     ]
    }
   ],
   "source": [
    "def patternToNumber(pattern):\n",
    "    if len(pattern) == 0:\n",
    "        return 0\n",
    "    return 4 * patternToNumber(pattern[0:-1]) + symbolToNumber(pattern[-1:])\n",
    "\n",
    "def symbolToNumber(symbol):\n",
    "    if symbol == \"A\":\n",
    "        return 0\n",
    "    if symbol == \"C\":\n",
    "        return 1\n",
    "    if symbol == \"G\":\n",
    "        return 2\n",
    "    if symbol == \"T\":\n",
    "        return 3\n",
    "\n",
    "print(patternToNumber(\"AGT\"))"
   ]
  },
  {
   "cell_type": "markdown",
   "metadata": {},
   "source": [
    "BA1M"
   ]
  },
  {
   "cell_type": "code",
   "execution_count": 11,
   "metadata": {},
   "outputs": [
    {
     "name": "stdout",
     "output_type": "stream",
     "text": [
      "AGTC\n"
     ]
    }
   ],
   "source": [
    "def numberToPattern(x, k):\n",
    "    if k == 1:\n",
    "        return numberToSymbol(x)\n",
    "    return numberToPattern(x // 4, k-1) + numberToSymbol(x % 4)\n",
    "\n",
    "def numberToSymbol(x):\n",
    "    if x == 0:\n",
    "        return \"A\"\n",
    "    if x == 1:\n",
    "        return \"C\"\n",
    "    if x == 2:\n",
    "        return \"G\"\n",
    "    if x == 3:\n",
    "        return \"T\"\n",
    "\n",
    "print(numberToPattern(45,4))"
   ]
  },
  {
   "cell_type": "markdown",
   "metadata": {},
   "source": [
    "BA1N"
   ]
  },
  {
   "cell_type": "code",
   "execution_count": 15,
   "metadata": {},
   "outputs": [
    {
     "name": "stdout",
     "output_type": "stream",
     "text": [
      "ACG\n",
      "1\n",
      "['AAG', 'ACA', 'ACC', 'ACG', 'AGG', 'CCG', 'GCG']\n"
     ]
    }
   ],
   "source": [
    "import itertools\n",
    "\n",
    "def hamming_dis(dna1,dna2):\n",
    "    l=len(dna1)\n",
    "    c=0\n",
    "    for x in range(0,l):\n",
    "        if(dna1[x]!=dna2[x]):\n",
    "            c+=1\n",
    "    return c        \n",
    "     \n",
    "    \n",
    "def get_all_kmers_for_this(string,k):\n",
    "    pattern = map(''.join, itertools.product(string, repeat=k))\n",
    "    p = dict()\n",
    "    for i in pattern:\n",
    "         p[i] = 0\n",
    "        \n",
    "    return p\n",
    "        \n",
    "    \n",
    "     \n",
    "       \n",
    "    \n",
    "def most_frequent(string ,d):\n",
    "    k=len(string)\n",
    "    patterns=get_all_kmers_for_this(string,k)\n",
    "    start=0\n",
    "    l=len(string)\n",
    "   \n",
    "    for j in patterns.keys():\n",
    "         if(hamming_dis(j,string)<=d):\n",
    "                patterns[j]+=1\n",
    "        \n",
    "           \n",
    "            \n",
    "      \n",
    "    values=patterns.values()\n",
    "    ma=max(values)\n",
    "    ans=[]\n",
    "    for x in patterns.keys():\n",
    "        if(patterns[x]==ma):\n",
    "            ans.append(x)\n",
    "            \n",
    "        \n",
    "    print(ans)  \n",
    "    \n",
    "string=input()\n",
    "d=int(input())\n",
    "most_frequent(string,d)"
   ]
  }
 ],
 "metadata": {
  "kernelspec": {
   "display_name": "Python 3",
   "language": "python",
   "name": "python3"
  },
  "language_info": {
   "codemirror_mode": {
    "name": "ipython",
    "version": 3
   },
   "file_extension": ".py",
   "mimetype": "text/x-python",
   "name": "python",
   "nbconvert_exporter": "python",
   "pygments_lexer": "ipython3",
   "version": "3.6.4"
  }
 },
 "nbformat": 4,
 "nbformat_minor": 2
}
